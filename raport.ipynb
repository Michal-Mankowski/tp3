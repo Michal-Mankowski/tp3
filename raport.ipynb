{
 "cells": [
  {
   "cell_type": "markdown",
   "metadata": {},
   "source": [
    "# TECHNIKI PROGRAMOWANIA - projekt 3\n",
    "### Michał Mańkowski 197622\n",
    "### Kacper Kobrzyński 197668\n",
    "\n",
    "Wykorzystane biblioteki:\n",
    "- matplotplusplus (c++)\n",
    "- pybind11 (c++)\n",
    "\n",
    "Obie są załączone jako submodule\n",
    "\n",
    "Przy budowie proszę umieścić biblioteke w folderze build\n"
   ]
  },
  {
   "cell_type": "markdown",
   "metadata": {},
   "source": [
    "# Wizualizacja sygnałów 1D\n",
    "Funkcja visualize_signal(signal, time, filename) Funkcja zapisuje wykres sygnału w pliku podanym przez nas. Sygnał powinen być listą floatów lub listą typu automatycznie konwertowanego na float przez pythona, ale tak będzie dla każdego typu więc nie ma sensu pisać tego za każdym razem. Time to float i filename to string. \n",
    "Do zaprezentowania wczytujemy plik dźwiękowy jako sygnał i odczytujemy jego czas trwania w sekundach używając wbudowanej w pythonie biblioteki wave:"
   ]
  },
  {
   "cell_type": "code",
   "execution_count": 2,
   "metadata": {},
   "outputs": [
    {
     "name": "stderr",
     "output_type": "stream",
     "text": [
      "         line 91400: warning: refresh not possible and replot is disabled\n",
      "         line 91400: warning: refresh not possible and replot is disabled\n",
      "         line 91400: warning: refresh not possible and replot is disabled\n",
      "         line 91400: warning: refresh not possible and replot is disabled\n",
      "         line 91400: warning: refresh not possible and replot is disabled\n",
      "         line 91400: warning: refresh not possible and replot is disabled\n",
      "         line 91400: warning: refresh not possible and replot is disabled\n",
      "         line 91400: warning: refresh not possible and replot is disabled\n",
      "         line 91400: warning: refresh not possible and replot is disabled\n",
      "         line 91400: warning: refresh not possible and replot is disabled\n",
      "         line 91400: warning: refresh not possible and replot is disabled\n",
      "         line 91400: warning: refresh not possible and replot is disabled\n"
     ]
    }
   ],
   "source": [
    "import wave\n",
    "import struct\n",
    "import build.siganalysis as sig\n",
    "\n",
    "def read_wave(filename: str) -> tuple[float, list[float]]:\n",
    "    with wave.open(filename, 'rb') as f:\n",
    "        data = f.readframes(f.getnframes())\n",
    "        duration = f.getnframes() / f.getframerate()\n",
    "        samples = struct.unpack('{n}h'.format(n=f.getnframes()*f.getnchannels()), data)\n",
    "        return duration, samples\n",
    "\n",
    "audio = read_wave(\"dc.wav\")\n",
    "sig.visualize_signal(audio[1], audio[0], \"raport_img/visualize_audio.jpg\")"
   ]
  },
  {
   "cell_type": "markdown",
   "metadata": {},
   "source": [
    "![Visualized Audio](raport_img/visualize_audio.jpg)"
   ]
  },
  {
   "cell_type": "markdown",
   "metadata": {},
   "source": [
    "# Generowanie sygnałów\n",
    "generate_signal(signal_type, time, sampling, amplitude, frequency) Funkcja zwraca liste floatów, signal_type to enum, który ma 4 różne opcje:\n",
    "- SignalTypes.sig_sin\n",
    "- SignalTypes.sig_cos\n",
    "- SignalTypes.sig_square\n",
    "- SignalTypes.sig_sawtooth\n",
    "Każda odzwierciedla typ generowanego sygnału.\n",
    "time, amplitude i frequency to float, a sampling to int. Frequency nie jest wartością w Hz, tylko częstotliwością kątową.\n",
    "Przykłady użycia przy jednoczesnej wizualizacji używając wcześniej przedstawionej funkcji:"
   ]
  },
  {
   "cell_type": "code",
   "execution_count": 9,
   "metadata": {},
   "outputs": [],
   "source": [
    "Signal = sig.generate_signal(sig.SignalTypes.sig_sin, 10, 10000, 1, 1)\n",
    "sig.visualize_signal(Signal, 10, \"raport_img/visualize_sig_sin1.jpg\")"
   ]
  },
  {
   "cell_type": "markdown",
   "metadata": {},
   "source": [
    "![Sig Sin1](raport_img/visualize_sig_sin1.jpg)"
   ]
  },
  {
   "cell_type": "code",
   "execution_count": 10,
   "metadata": {},
   "outputs": [],
   "source": [
    "Signal = sig.generate_signal(sig.SignalTypes.sig_cos, 10, 10000, 1, 1)\n",
    "sig.visualize_signal(Signal, 10, \"raport_img/visualize_sig_cos1.jpg\")"
   ]
  },
  {
   "cell_type": "markdown",
   "metadata": {},
   "source": [
    "![Cosine plot1](raport_img/visualize_sig_cos1.jpg)"
   ]
  },
  {
   "cell_type": "code",
   "execution_count": 11,
   "metadata": {},
   "outputs": [],
   "source": [
    "Signal = sig.generate_signal(sig.SignalTypes.sig_square, 10, 10000, 1, 1)\n",
    "sig.visualize_signal(Signal, 10, \"raport_img/visualize_sig_square1.jpg\")"
   ]
  },
  {
   "cell_type": "markdown",
   "metadata": {},
   "source": [
    "![Square Signal](raport_img/visualize_sig_square1.jpg)"
   ]
  },
  {
   "cell_type": "code",
   "execution_count": 12,
   "metadata": {},
   "outputs": [],
   "source": [
    "Signal = sig.generate_signal(sig.SignalTypes.sig_sawtooth, 10, 10000, 1, 1)\n",
    "sig.visualize_signal(Signal, 10, \"raport_img/visualize_sig_sawtooth1.jpg\")"
   ]
  },
  {
   "cell_type": "markdown",
   "metadata": {},
   "source": [
    "![Signal Sawtooth1](raport_img/visualize_sig_sawtooth1.jpg)"
   ]
  },
  {
   "cell_type": "code",
   "execution_count": 19,
   "metadata": {},
   "outputs": [],
   "source": [
    "Signal = sig.generate_signal(sig.SignalTypes.sig_sin, 10, 10000, 25, 5)\n",
    "sig.visualize_signal(Signal, 10, \"raport_img/visualize_sig_sin2.jpg\")"
   ]
  },
  {
   "cell_type": "markdown",
   "metadata": {},
   "source": [
    "![Signal Sine2](raport_img/visualize_sig_sin2.jpg)"
   ]
  },
  {
   "cell_type": "markdown",
   "metadata": {},
   "source": [
    "# DFT\n",
    "dft(signal) Zależnie od tego czy zostanie podana lista floatów, czy lista liczb zespolonych mamy różne wyniki.\n",
    "Jeśli podany sygnał jest listą floatów to zostaje zwrócona lista liczb zespolonych,\n",
    "Jesli podany sygnał jest listą liczb zespolonych to zostaje zwrócona lista floatów.\n",
    "W taki sposób dft jest funkcją, wykonującą dft i ją odwracającą.\n",
    "Do prezentacji działania zostanie użyta jeszcze funkcja complexToPowerVector(complex_list) zwracająca listę mocy liczb zespolonych."
   ]
  },
  {
   "cell_type": "code",
   "execution_count": 26,
   "metadata": {},
   "outputs": [],
   "source": [
    "SignalAfterDFT = sig.dft(audio[1])\n",
    "SignalPower = sig.complexToPowerVector(Signal)\n",
    "sig.visualize_signal(SignalPower, 420, \"raport_img/dft_audio.jpg\")\n"
   ]
  },
  {
   "cell_type": "markdown",
   "metadata": {},
   "source": [
    "![DFT Audio1](raport_img/dft_audio.jpg)"
   ]
  },
  {
   "cell_type": "markdown",
   "metadata": {},
   "source": [
    "Odwracamy DFT:"
   ]
  },
  {
   "cell_type": "code",
   "execution_count": 27,
   "metadata": {},
   "outputs": [],
   "source": [
    "SignalReversedDFT = sig.dft(SignalAfterDFT)\n",
    "sig.visualize_signal(SignalReversedDFT, audio[0], \"raport_img/audio_reversed_dft.jpg\")"
   ]
  },
  {
   "cell_type": "markdown",
   "metadata": {},
   "source": [
    "![Audio reversed dft](raport_img/audio_reversed_dft.jpg)"
   ]
  },
  {
   "cell_type": "markdown",
   "metadata": {},
   "source": [
    "Jak widać sygnał pozostaje niezmieniony.\n",
    "\n",
    "Ostatnią funkcja jaka została to frequency_filter(signal, cutoff) gdzie signal to lista floatów, a cutoff to float.\n",
    "\n",
    "Funkcja ta dzięki dft filture częstotliwości mniejsze niż podany przez nasz cutoff."
   ]
  },
  {
   "cell_type": "code",
   "execution_count": 30,
   "metadata": {},
   "outputs": [],
   "source": [
    "FilteredSignal = sig.frequency_filter(audio[1], 300)\n",
    "\n",
    "def write_wave(filename: str, signal: list, duration: int):\n",
    "    channels = 2\n",
    "    framerate = int(len(signal) / (duration * channels)) \n",
    "    samplewidth = 2\n",
    "    with wave.open(filename, 'wb') as f:\n",
    "        f.setnchannels(channels)\n",
    "        f.setsampwidth(samplewidth)\n",
    "        f.setframerate(framerate)\n",
    "        signal_bytes = struct.pack('<' + 'h' * len(signal), *[int(sample) for sample in signal])\n",
    "        f.writeframes(signal_bytes)\n",
    "\n",
    "write_wave(\"dc_filtered.wav\", FilteredSignal, audio[0])\n",
    "sig.visualize_signal(FilteredSignal, audio[0], \"raport_img/filtered_audio.jpg\")"
   ]
  },
  {
   "cell_type": "markdown",
   "metadata": {},
   "source": [
    "Odsłuchać różnicy między oryginałem i po filtracji można odsłuchać. Oryginał nazywa się dc.wav, a po filtracji dc_filtered.wav.\n",
    "Można też zobaczyć różnicę wizualnie:"
   ]
  },
  {
   "cell_type": "markdown",
   "metadata": {},
   "source": [
    "![Audio filtered](raport_img/filtered_audio.jpg)"
   ]
  }
 ],
 "metadata": {
  "kernelspec": {
   "display_name": "Python 3",
   "language": "python",
   "name": "python3"
  },
  "language_info": {
   "codemirror_mode": {
    "name": "ipython",
    "version": 3
   },
   "file_extension": ".py",
   "mimetype": "text/x-python",
   "name": "python",
   "nbconvert_exporter": "python",
   "pygments_lexer": "ipython3",
   "version": "3.12.2"
  }
 },
 "nbformat": 4,
 "nbformat_minor": 2
}
